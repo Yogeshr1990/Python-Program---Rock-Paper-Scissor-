{
 "cells": [
  {
   "cell_type": "markdown",
   "id": "6b2cdfe8",
   "metadata": {},
   "source": [
    "### Rock, Paper, Scissor Game"
   ]
  },
  {
   "cell_type": "code",
   "execution_count": 4,
   "id": "839add30",
   "metadata": {},
   "outputs": [
    {
     "name": "stdout",
     "output_type": "stream",
     "text": [
      "Welcome to Rock,Paper & Scossir Game Program\n",
      "\n",
      "Lets Begin! \n",
      "\n",
      "What you would like to select from (rock,paper,scissor): rock\n",
      "You won because AI selected: scissor \n",
      "\n",
      "What you would like to select from (rock,paper,scissor): paper\n",
      "You won because AI selected: rock \n",
      "\n",
      "What you would like to select from (rock,paper,scissor): scissor\n",
      "Its a Tie because AI selected: scissor \n",
      "\n",
      "What you would like to select from (rock,paper,scissor): paper\n",
      "Its a Tie because AI selected: paper \n",
      "\n",
      "What you would like to select from (rock,paper,scissor): rock\n",
      "You won because AI selected: scissor \n",
      "\n",
      "What you would like to select from (rock,paper,scissor): scissor\n",
      "You Lost because AI selected: rock\n"
     ]
    }
   ],
   "source": [
    "import random\n",
    "\n",
    "print('Welcome to Rock,Paper & Scossir Game Program\\n')\n",
    "\n",
    "print('Lets Begin! \\n')\n",
    "\n",
    "\n",
    "a = ['rock','paper','scissor']\n",
    "\n",
    "win = True or False\n",
    "\n",
    "\n",
    "while win:\n",
    "    \n",
    "    randomword = a[random.randint(0,2)]\n",
    "    \n",
    "    b = input('What you would like to select from (rock,paper,scissor): ')\n",
    "    if b.lower() == randomword:\n",
    "        print('Its a Tie','because AI selected:',randomword,'\\n')\n",
    "        \n",
    "    elif b.lower() == 'rock' and randomword == 'scissor':\n",
    "        print('You won', 'because AI selected:',randomword,'\\n')\n",
    "        \n",
    "    elif b.lower() == 'paper' and randomword == 'rock':\n",
    "        print('You won','because AI selected:',randomword,'\\n')\n",
    "        \n",
    "    elif b.lower() == 'scissor' and randomword == 'paper':\n",
    "        print('You won','because AI selected:',randomword,'\\n')\n",
    "        \n",
    "    else:\n",
    "        print('You Lost','because AI selected:',randomword)\n",
    "        break"
   ]
  }
 ],
 "metadata": {
  "kernelspec": {
   "display_name": "Python 3 (ipykernel)",
   "language": "python",
   "name": "python3"
  },
  "language_info": {
   "codemirror_mode": {
    "name": "ipython",
    "version": 3
   },
   "file_extension": ".py",
   "mimetype": "text/x-python",
   "name": "python",
   "nbconvert_exporter": "python",
   "pygments_lexer": "ipython3",
   "version": "3.9.7"
  }
 },
 "nbformat": 4,
 "nbformat_minor": 5
}
